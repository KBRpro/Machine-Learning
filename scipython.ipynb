{
  "nbformat": 4,
  "nbformat_minor": 0,
  "metadata": {
    "colab": {
      "name": "Untitled0.ipynb",
      "provenance": []
    },
    "kernelspec": {
      "name": "python3",
      "display_name": "Python 3"
    },
    "language_info": {
      "name": "python"
    }
  },
  "cells": [
    {
      "cell_type": "code",
      "metadata": {
        "id": "Bwj8KCgGPQvv"
      },
      "source": [
        "import numpy as np"
      ],
      "execution_count": null,
      "outputs": []
    },
    {
      "cell_type": "code",
      "metadata": {
        "colab": {
          "base_uri": "https://localhost:8080/"
        },
        "id": "3ZJadT4APvgo",
        "outputId": "2395a3f7-1eeb-477d-98c4-26d84b9d2c6f"
      },
      "source": [
        "lst = [[1,2,3],[4,5,6]]\n",
        "ary2d= np.array(lst)\n",
        "ary2d.size\n",
        "#mostra o tamanho do array"
      ],
      "execution_count": null,
      "outputs": [
        {
          "output_type": "execute_result",
          "data": {
            "text/plain": [
              "6"
            ]
          },
          "metadata": {
            "tags": []
          },
          "execution_count": 10
        }
      ]
    },
    {
      "cell_type": "code",
      "metadata": {
        "colab": {
          "base_uri": "https://localhost:8080/"
        },
        "id": "fGiIUIQrS_0P",
        "outputId": "7841147b-5534-4985-946c-96e9f9ba0c17"
      },
      "source": [
        "lst = [[1,2,3],[4,5,6]]\n",
        "ary2d= np.array(lst)\n",
        "ary2d.ndim\n",
        "#mostra o numero de dimensoes do array"
      ],
      "execution_count": null,
      "outputs": [
        {
          "output_type": "execute_result",
          "data": {
            "text/plain": [
              "2"
            ]
          },
          "metadata": {
            "tags": []
          },
          "execution_count": 11
        }
      ]
    },
    {
      "cell_type": "code",
      "metadata": {
        "colab": {
          "base_uri": "https://localhost:8080/"
        },
        "id": "C-cDt83wTEJE",
        "outputId": "6f804441-3aae-482e-fa7f-2c10b03b0701"
      },
      "source": [
        "lst = [[1,2,3],[4,5,6]]\n",
        "ary2d= np.array(lst)\n",
        "ary2d.shape\n",
        "#mostra o numero de linhas e colunas"
      ],
      "execution_count": null,
      "outputs": [
        {
          "output_type": "execute_result",
          "data": {
            "text/plain": [
              "(2, 3)"
            ]
          },
          "metadata": {
            "tags": []
          },
          "execution_count": 12
        }
      ]
    },
    {
      "cell_type": "code",
      "metadata": {
        "colab": {
          "base_uri": "https://localhost:8080/"
        },
        "id": "CHpxj0r4TWBX",
        "outputId": "043f60df-a983-4890-bdb2-ba2e1463e2ed"
      },
      "source": [
        "lst = [[1,2,3],[4,5,6]]\n",
        "np.ones((3,3))\n",
        "#cria uma matriz unitaria da dimensao escolhida"
      ],
      "execution_count": null,
      "outputs": [
        {
          "output_type": "execute_result",
          "data": {
            "text/plain": [
              "array([[1., 1., 1.],\n",
              "       [1., 1., 1.],\n",
              "       [1., 1., 1.]])"
            ]
          },
          "metadata": {
            "tags": []
          },
          "execution_count": 16
        }
      ]
    },
    {
      "cell_type": "code",
      "metadata": {
        "colab": {
          "base_uri": "https://localhost:8080/"
        },
        "id": "ApieuDaOTwMz",
        "outputId": "7c84156e-d025-4458-a619-9d5a846cc89f"
      },
      "source": [
        "lst = [[1,2,3],[4,5,6]]\n",
        "np.eye(3)\n",
        "#cria uma matriz identidade com a dimensao dada"
      ],
      "execution_count": null,
      "outputs": [
        {
          "output_type": "execute_result",
          "data": {
            "text/plain": [
              "array([[1., 0., 0.],\n",
              "       [0., 1., 0.],\n",
              "       [0., 0., 1.]])"
            ]
          },
          "metadata": {
            "tags": []
          },
          "execution_count": 18
        }
      ]
    },
    {
      "cell_type": "code",
      "metadata": {
        "colab": {
          "base_uri": "https://localhost:8080/"
        },
        "id": "05CGQhfoUBuC",
        "outputId": "5670586c-7f4e-46b4-b735-c1e3a25a65f2"
      },
      "source": [
        "np.diag((3,3,3))\n",
        "#cria uma matriz quadrada com os mesmos numeros descritos na diagonal"
      ],
      "execution_count": null,
      "outputs": [
        {
          "output_type": "execute_result",
          "data": {
            "text/plain": [
              "array([[3, 0, 0],\n",
              "       [0, 3, 0],\n",
              "       [0, 0, 3]])"
            ]
          },
          "metadata": {
            "tags": []
          },
          "execution_count": 19
        }
      ]
    },
    {
      "cell_type": "code",
      "metadata": {
        "colab": {
          "base_uri": "https://localhost:8080/"
        },
        "id": "5Nccq2cvUPOR",
        "outputId": "5da29cab-bb0c-4ffa-f188-f5e4511ab2a6"
      },
      "source": [
        "np.arange(4., 10.)\n",
        "#cria um vetor seguindo o parametro dado"
      ],
      "execution_count": null,
      "outputs": [
        {
          "output_type": "execute_result",
          "data": {
            "text/plain": [
              "array([4., 5., 6., 7., 8., 9.])"
            ]
          },
          "metadata": {
            "tags": []
          },
          "execution_count": 20
        }
      ]
    },
    {
      "cell_type": "code",
      "metadata": {
        "colab": {
          "base_uri": "https://localhost:8080/"
        },
        "id": "UusCOYCUUWZb",
        "outputId": "6e4100b1-f269-421c-eff1-f471fdcd34bd"
      },
      "source": [
        "np.arange(5)\n",
        "#cria um vetor de 0 até n-1"
      ],
      "execution_count": null,
      "outputs": [
        {
          "output_type": "execute_result",
          "data": {
            "text/plain": [
              "array([0, 1, 2, 3, 4])"
            ]
          },
          "metadata": {
            "tags": []
          },
          "execution_count": 21
        }
      ]
    },
    {
      "cell_type": "code",
      "metadata": {
        "colab": {
          "base_uri": "https://localhost:8080/"
        },
        "id": "CCpBNJ3VUb5a",
        "outputId": "a1581c64-ff0f-4c6c-8c1c-cb7a867536a3"
      },
      "source": [
        "np.arange(1., 11., 2)\n",
        "#cria um vetor com os parametros dados pulando o numero de posições do intervalo"
      ],
      "execution_count": null,
      "outputs": [
        {
          "output_type": "execute_result",
          "data": {
            "text/plain": [
              "array([1., 3., 5., 7., 9.])"
            ]
          },
          "metadata": {
            "tags": []
          },
          "execution_count": 22
        }
      ]
    },
    {
      "cell_type": "code",
      "metadata": {
        "colab": {
          "base_uri": "https://localhost:8080/"
        },
        "id": "Qa-YRtYeUmRK",
        "outputId": "cd8dd6cc-2b23-4ad6-90eb-a790a5a2678d"
      },
      "source": [
        "np.linspace(0., 1., num=5)\n",
        "#cria um vetor com (numero inicial,numero final,numero de posições), sendo as mesmas igualmente espaçadas"
      ],
      "execution_count": null,
      "outputs": [
        {
          "output_type": "execute_result",
          "data": {
            "text/plain": [
              "array([0.  , 0.25, 0.5 , 0.75, 1.  ])"
            ]
          },
          "metadata": {
            "tags": []
          },
          "execution_count": 23
        }
      ]
    },
    {
      "cell_type": "code",
      "metadata": {
        "colab": {
          "base_uri": "https://localhost:8080/"
        },
        "id": "5oS-x5i3U4iN",
        "outputId": "9e38534b-bc8d-4afa-cb43-4262fe8f5acd"
      },
      "source": [
        "ary=np.array([1,2,3])\n",
        "ary[0]\n",
        "#mostra o elemento no index dado"
      ],
      "execution_count": null,
      "outputs": [
        {
          "output_type": "execute_result",
          "data": {
            "text/plain": [
              "1"
            ]
          },
          "metadata": {
            "tags": []
          },
          "execution_count": 24
        }
      ]
    },
    {
      "cell_type": "code",
      "metadata": {
        "colab": {
          "base_uri": "https://localhost:8080/"
        },
        "id": "5d8cjXD9VClR",
        "outputId": "554c571e-15df-438f-e2c4-107959db8d89"
      },
      "source": [
        "ary[:2]\n",
        "#mostra os primeiros dois elementos do vetor"
      ],
      "execution_count": null,
      "outputs": [
        {
          "output_type": "execute_result",
          "data": {
            "text/plain": [
              "array([1, 2])"
            ]
          },
          "metadata": {
            "tags": []
          },
          "execution_count": 25
        }
      ]
    },
    {
      "cell_type": "code",
      "metadata": {
        "colab": {
          "base_uri": "https://localhost:8080/"
        },
        "id": "HP3IXFurVOm_",
        "outputId": "1a780298-d632-4f8d-ae6f-053a76bc11f2"
      },
      "source": [
        "ary = np.array([[1, 2, 3],[4, 5, 6]])\n",
        "ary[0, 0] # mostra a superior esquerda\n",
        "ary[-1, -1] # mostra a inferior direita\n",
        "ary[0, 1] #mostra a primeira linha segunda coluna\n",
        "ary[0] #mostra a primeira linha\n",
        "ary[:, 0] # mostra a primeira coluna\n",
        "ary[:, :2] # mostra as duas primeiras colunas"
      ],
      "execution_count": null,
      "outputs": [
        {
          "output_type": "execute_result",
          "data": {
            "text/plain": [
              "2"
            ]
          },
          "metadata": {
            "tags": []
          },
          "execution_count": 26
        }
      ]
    },
    {
      "cell_type": "code",
      "metadata": {
        "colab": {
          "base_uri": "https://localhost:8080/"
        },
        "id": "diBnOvJeWHqz",
        "outputId": "e82e1b0c-dcb2-4be0-c0b6-6f4d7b28e6b3"
      },
      "source": [
        "ary=np.array([[1, 2],[4, 5]])\n",
        "ary[0, 0] #mostra o primeiro elemento da esquerda superior"
      ],
      "execution_count": null,
      "outputs": [
        {
          "output_type": "execute_result",
          "data": {
            "text/plain": [
              "1"
            ]
          },
          "metadata": {
            "tags": []
          },
          "execution_count": 29
        }
      ]
    },
    {
      "cell_type": "code",
      "metadata": {
        "colab": {
          "base_uri": "https://localhost:8080/"
        },
        "id": "jYNCYeEwWcQW",
        "outputId": "46bd1400-de15-426b-c4eb-e5f0b87e84b4"
      },
      "source": [
        "lst = [[1, 2, 3], [4, 5, 6]]\n",
        "for row_idx, row_val in enumerate(lst):\n",
        "  for col_idx, col_val in enumerate(row_val):\n",
        "    lst[row_idx][col_idx] += 1\n",
        "lst #faz com q cada elemento da matriz receba +1 e que a mesma seja apresentada como uma lista"
      ],
      "execution_count": null,
      "outputs": [
        {
          "output_type": "execute_result",
          "data": {
            "text/plain": [
              "[[2, 3, 4], [5, 6, 7]]"
            ]
          },
          "metadata": {
            "tags": []
          },
          "execution_count": 30
        }
      ]
    },
    {
      "cell_type": "code",
      "metadata": {
        "colab": {
          "base_uri": "https://localhost:8080/"
        },
        "id": "O4w4fVzcW0gS",
        "outputId": "ecf741a4-44ab-4a60-d640-c7d31c495581"
      },
      "source": [
        "lst = [[1, 2, 3], [4, 5, 6]]\n",
        "[[cell + 1 for cell in row] for row in lst]\n",
        "#faz a mesma coisa do codigo acima mas de forma mais elegante"
      ],
      "execution_count": null,
      "outputs": [
        {
          "output_type": "execute_result",
          "data": {
            "text/plain": [
              "[[2, 3, 4], [5, 6, 7]]"
            ]
          },
          "metadata": {
            "tags": []
          },
          "execution_count": 31
        }
      ]
    },
    {
      "cell_type": "code",
      "metadata": {
        "colab": {
          "base_uri": "https://localhost:8080/"
        },
        "id": "DsmrLtoIXEZR",
        "outputId": "bfaf05c4-0ec2-420a-e1ff-4b9c18a4c1e4"
      },
      "source": [
        "ary = np.array([[1, 2, 3], [4, 5, 6]])\n",
        "ary = np.add(ary, 1)\n",
        "ary\n",
        "#cada elemento da matriz recebe +1"
      ],
      "execution_count": null,
      "outputs": [
        {
          "output_type": "execute_result",
          "data": {
            "text/plain": [
              "array([[2, 3, 4],\n",
              "       [5, 6, 7]])"
            ]
          },
          "metadata": {
            "tags": []
          },
          "execution_count": 32
        }
      ]
    },
    {
      "cell_type": "code",
      "metadata": {
        "colab": {
          "base_uri": "https://localhost:8080/"
        },
        "id": "yrDsWMyEXQRa",
        "outputId": "9807819f-b7b9-481c-fac1-a4023c65f330"
      },
      "source": [
        "ary+1\n",
        "#mesma coisa do bloco acima"
      ],
      "execution_count": null,
      "outputs": [
        {
          "output_type": "execute_result",
          "data": {
            "text/plain": [
              "array([[3, 4, 5],\n",
              "       [6, 7, 8]])"
            ]
          },
          "metadata": {
            "tags": []
          },
          "execution_count": 33
        }
      ]
    },
    {
      "cell_type": "code",
      "metadata": {
        "colab": {
          "base_uri": "https://localhost:8080/"
        },
        "id": "oO5mi1-7XWun",
        "outputId": "b6f2db54-bfa5-4fca-fd9b-0bc9a3448bb5"
      },
      "source": [
        "ary**2\n",
        "#multiplica cada elemento de ary por 2"
      ],
      "execution_count": null,
      "outputs": [
        {
          "output_type": "execute_result",
          "data": {
            "text/plain": [
              "array([[ 4,  9, 16],\n",
              "       [25, 36, 49]])"
            ]
          },
          "metadata": {
            "tags": []
          },
          "execution_count": 34
        }
      ]
    },
    {
      "cell_type": "code",
      "metadata": {
        "colab": {
          "base_uri": "https://localhost:8080/"
        },
        "id": "uNp5e4tZXcw1",
        "outputId": "6f81288c-e991-474d-98fa-f6fba56fcad3"
      },
      "source": [
        "ary = np.array([[1, 2, 3],[4, 5, 6]])\n",
        "np.add.reduce(ary)#soma as colunas\n",
        "np.add.reduce(ary, axis=1) #soma as linhas\n",
        "ary.sum(axis=0) #soma as colunas da mesma forma q o npp.add.reduce"
      ],
      "execution_count": null,
      "outputs": [
        {
          "output_type": "execute_result",
          "data": {
            "text/plain": [
              "array([ 6, 15])"
            ]
          },
          "metadata": {
            "tags": []
          },
          "execution_count": 37
        }
      ]
    },
    {
      "cell_type": "code",
      "metadata": {
        "colab": {
          "base_uri": "https://localhost:8080/"
        },
        "id": "n4agYs8iYCuE",
        "outputId": "170a535e-2cd8-4521-e62d-f0b83ba2223e"
      },
      "source": [
        "ary.sum() #soma todos os elementos"
      ],
      "execution_count": null,
      "outputs": [
        {
          "output_type": "execute_result",
          "data": {
            "text/plain": [
              "21"
            ]
          },
          "metadata": {
            "tags": []
          },
          "execution_count": 38
        }
      ]
    },
    {
      "cell_type": "code",
      "metadata": {
        "colab": {
          "base_uri": "https://localhost:8080/"
        },
        "id": "WyKQxJVkZRi3",
        "outputId": "8e0d19e9-719c-4013-895b-f8b02ffac25e"
      },
      "source": [
        "ary1 = np.array([1, 2, 3])\n",
        "ary2 = np.array([4, 5, 6])\n",
        "ary1 + ary2 #soma as colunas"
      ],
      "execution_count": null,
      "outputs": [
        {
          "output_type": "execute_result",
          "data": {
            "text/plain": [
              "array([5, 7, 9])"
            ]
          },
          "metadata": {
            "tags": []
          },
          "execution_count": 39
        }
      ]
    },
    {
      "cell_type": "code",
      "metadata": {
        "colab": {
          "base_uri": "https://localhost:8080/"
        },
        "id": "_zltNK1CZYnm",
        "outputId": "dfeaeb0c-7440-4e62-ce0a-ccca7aafda2f"
      },
      "source": [
        "ary3 = np.array([[4, 5, 6],[7, 8, 9]])\n",
        "ary3 + ary1 #soma com ary 1 tendo linha 0 e 1 espelhadas"
      ],
      "execution_count": null,
      "outputs": [
        {
          "output_type": "execute_result",
          "data": {
            "text/plain": [
              "array([[ 5,  7,  9],\n",
              "       [ 8, 10, 12]])"
            ]
          },
          "metadata": {
            "tags": []
          },
          "execution_count": 40
        }
      ]
    },
    {
      "cell_type": "code",
      "metadata": {
        "colab": {
          "base_uri": "https://localhost:8080/"
        },
        "id": "RanTStahZin9",
        "outputId": "821f405b-2230-40e4-d663-180bede69f65"
      },
      "source": [
        "ary = np.array([[1, 2, 3],[4, 5, 6]])\n",
        "first_row = ary[0]\n",
        "first_row += 99\n",
        "ary#soma 99 em todos os elm da primeira linha"
      ],
      "execution_count": null,
      "outputs": [
        {
          "output_type": "execute_result",
          "data": {
            "text/plain": [
              "array([[100, 101, 102],\n",
              "       [  4,   5,   6]])"
            ]
          },
          "metadata": {
            "tags": []
          },
          "execution_count": 44
        }
      ]
    },
    {
      "cell_type": "code",
      "metadata": {
        "colab": {
          "base_uri": "https://localhost:8080/"
        },
        "id": "Vjbb_pFMZvOZ",
        "outputId": "eedce0eb-38ff-434d-8cf9-5a01ce1e7691"
      },
      "source": [
        "ary = np.array([[1, 2, 3],[4, 5, 6]])\n",
        "first_row = ary[:1]\n",
        "first_row += 99\n",
        "ary # soma 99 em todos os elementos até a linha 1"
      ],
      "execution_count": null,
      "outputs": [
        {
          "output_type": "execute_result",
          "data": {
            "text/plain": [
              "array([[100, 101, 102],\n",
              "       [  4,   5,   6]])"
            ]
          },
          "metadata": {
            "tags": []
          },
          "execution_count": 45
        }
      ]
    },
    {
      "cell_type": "code",
      "metadata": {
        "colab": {
          "base_uri": "https://localhost:8080/"
        },
        "id": "n3QbnH9EZ-6R",
        "outputId": "b240c6a1-f579-4ac7-870f-51c99e3b07b3"
      },
      "source": [
        "ary = np.array([[1, 2, 3],[4, 5, 6]])\n",
        "center_col = ary[:, 1]\n",
        "center_col += 99\n",
        "ary # soma 99 em todos os elementos da coluna central"
      ],
      "execution_count": null,
      "outputs": [
        {
          "output_type": "execute_result",
          "data": {
            "text/plain": [
              "array([[  1, 101,   3],\n",
              "       [  4, 104,   6]])"
            ]
          },
          "metadata": {
            "tags": []
          },
          "execution_count": 46
        }
      ]
    },
    {
      "cell_type": "code",
      "metadata": {
        "colab": {
          "base_uri": "https://localhost:8080/"
        },
        "id": "U6Yb8mcpaIeI",
        "outputId": "6aa2ba6d-688d-4e84-ae0e-117b95572bf3"
      },
      "source": [
        "ary = np.array([[1, 2, 3],[4, 5, 6]])\n",
        "second_row = ary[1].copy()\n",
        "second_row += 99\n",
        "ary # somaria 99 em todos os elementos da segunda linha"
      ],
      "execution_count": null,
      "outputs": [
        {
          "output_type": "execute_result",
          "data": {
            "text/plain": [
              "array([[1, 2, 3],\n",
              "       [4, 5, 6]])"
            ]
          },
          "metadata": {
            "tags": []
          },
          "execution_count": 47
        }
      ]
    },
    {
      "cell_type": "code",
      "metadata": {
        "colab": {
          "base_uri": "https://localhost:8080/"
        },
        "id": "0nZDAe4LaYI2",
        "outputId": "b79f3b74-2617-4ddd-843a-5b4af48e0aa4"
      },
      "source": [
        "ary = np.array([[1, 2, 3],[4, 5, 6]])\n",
        "ary[:, [0, 2]] # mostra a primeira e ultima coluna em forma matricial"
      ],
      "execution_count": null,
      "outputs": [
        {
          "output_type": "execute_result",
          "data": {
            "text/plain": [
              "array([[1, 3],\n",
              "       [4, 6]])"
            ]
          },
          "metadata": {
            "tags": []
          },
          "execution_count": 48
        }
      ]
    },
    {
      "cell_type": "code",
      "metadata": {
        "colab": {
          "base_uri": "https://localhost:8080/"
        },
        "id": "VJ1G-FwyajtE",
        "outputId": "fe8fb42f-b0dc-411c-e0db-6e91f168558f"
      },
      "source": [
        "ary = np.array([[1, 2, 3],[4, 5, 6]])\n",
        "this_is_a_copy = ary[:, [0, 2]]\n",
        "this_is_a_copy += 99\n",
        "ary[:, [2, 0]]\n",
        "mostra a ultima coluna e a primeira após, em forma matricial"
      ],
      "execution_count": null,
      "outputs": [
        {
          "output_type": "execute_result",
          "data": {
            "text/plain": [
              "array([[3, 1],\n",
              "       [6, 4]])"
            ]
          },
          "metadata": {
            "tags": []
          },
          "execution_count": 51
        }
      ]
    },
    {
      "cell_type": "code",
      "metadata": {
        "colab": {
          "base_uri": "https://localhost:8080/"
        },
        "id": "H45c3EW1a1bG",
        "outputId": "48d4a109-47a0-4cbd-da70-937e8d6eb4dc"
      },
      "source": [
        "ary = np.array([[1, 2, 3],[4, 5, 6]])\n",
        "greater3_mask = ary > 3\n",
        "greater3_mask\n",
        "#mostra em bool qual valor é maior q 3"
      ],
      "execution_count": null,
      "outputs": [
        {
          "output_type": "execute_result",
          "data": {
            "text/plain": [
              "array([[False, False, False],\n",
              "       [ True,  True,  True]])"
            ]
          },
          "metadata": {
            "tags": []
          },
          "execution_count": 52
        }
      ]
    },
    {
      "cell_type": "code",
      "metadata": {
        "colab": {
          "base_uri": "https://localhost:8080/"
        },
        "id": "-SOHgLfebEPf",
        "outputId": "925dc126-2a82-47c4-a741-79dfbed1d575"
      },
      "source": [
        "ary[greater3_mask]\n",
        "#mostra os elementos >3"
      ],
      "execution_count": null,
      "outputs": [
        {
          "output_type": "execute_result",
          "data": {
            "text/plain": [
              "array([4, 5, 6])"
            ]
          },
          "metadata": {
            "tags": []
          },
          "execution_count": 53
        }
      ]
    },
    {
      "cell_type": "code",
      "metadata": {
        "colab": {
          "base_uri": "https://localhost:8080/"
        },
        "id": "cobXILuPbLO7",
        "outputId": "23b02e3c-29a5-4894-9d72-fab31ab4ee71"
      },
      "source": [
        "ary[(ary > 3) & (ary % 2 == 0)]\n",
        "#mostra os elementos parres > 6"
      ],
      "execution_count": null,
      "outputs": [
        {
          "output_type": "execute_result",
          "data": {
            "text/plain": [
              "array([4, 6])"
            ]
          },
          "metadata": {
            "tags": []
          },
          "execution_count": 54
        }
      ]
    },
    {
      "cell_type": "code",
      "metadata": {
        "colab": {
          "base_uri": "https://localhost:8080/"
        },
        "id": "tgSkDgTubP2G",
        "outputId": "1e55d8d1-4a1e-417d-ca0f-85f2da626555"
      },
      "source": [
        "np.random.seed(123)\n",
        "np.random.rand(3)\n",
        "#cria um array de valores random com 3 posicoes"
      ],
      "execution_count": null,
      "outputs": [
        {
          "output_type": "execute_result",
          "data": {
            "text/plain": [
              "array([0.69646919, 0.28613933, 0.22685145])"
            ]
          },
          "metadata": {
            "tags": []
          },
          "execution_count": 55
        }
      ]
    },
    {
      "cell_type": "code",
      "metadata": {
        "colab": {
          "base_uri": "https://localhost:8080/"
        },
        "id": "6sMipglmbdWq",
        "outputId": "f4d4dfe8-cc9c-4384-a785-547aff68b804"
      },
      "source": [
        "rng1 = np.random.RandomState(seed=123)\n",
        "rng1.rand(3)\n",
        "#cria um array de valores random com 3 posicoes"
      ],
      "execution_count": null,
      "outputs": [
        {
          "output_type": "execute_result",
          "data": {
            "text/plain": [
              "array([0.69646919, 0.28613933, 0.22685145])"
            ]
          },
          "metadata": {
            "tags": []
          },
          "execution_count": 56
        }
      ]
    },
    {
      "cell_type": "code",
      "metadata": {
        "colab": {
          "base_uri": "https://localhost:8080/"
        },
        "id": "zPVLT91kbkVk",
        "outputId": "1e0502a5-4c41-4dd8-b42e-a992fe095dc0"
      },
      "source": [
        "ary1d = np.array([1, 2, 3, 4, 5, 6])\n",
        "ary2d_view = ary1d.reshape(2, 3)\n",
        "ary2d_view\n",
        "#mostra ary1d em forma 2d"
      ],
      "execution_count": null,
      "outputs": [
        {
          "output_type": "execute_result",
          "data": {
            "text/plain": [
              "array([[1, 2, 3],\n",
              "       [4, 5, 6]])"
            ]
          },
          "metadata": {
            "tags": []
          },
          "execution_count": 57
        }
      ]
    },
    {
      "cell_type": "code",
      "metadata": {
        "colab": {
          "base_uri": "https://localhost:8080/"
        },
        "id": "e99MBez2buY5",
        "outputId": "eed29906-f2d2-44cc-adcf-56c2245cfc71"
      },
      "source": [
        "np.may_share_memory(ary2d_view, ary1d)"
      ],
      "execution_count": null,
      "outputs": [
        {
          "output_type": "execute_result",
          "data": {
            "text/plain": [
              "True"
            ]
          },
          "metadata": {
            "tags": []
          },
          "execution_count": 58
        }
      ]
    },
    {
      "cell_type": "code",
      "metadata": {
        "colab": {
          "base_uri": "https://localhost:8080/"
        },
        "id": "sYIGGCBfb1WE",
        "outputId": "22262192-1452-4c1f-9c96-ddc0fdf64497"
      },
      "source": [
        "ary1d.reshape(2, -1) #mostra ary1d em forma 2d"
      ],
      "execution_count": null,
      "outputs": [
        {
          "output_type": "execute_result",
          "data": {
            "text/plain": [
              "array([[1, 2, 3],\n",
              "       [4, 5, 6]])"
            ]
          },
          "metadata": {
            "tags": []
          },
          "execution_count": 59
        }
      ]
    },
    {
      "cell_type": "code",
      "metadata": {
        "colab": {
          "base_uri": "https://localhost:8080/"
        },
        "id": "fPBIkyV_cHsZ",
        "outputId": "465f5a9d-4d77-4cde-aa50-8eaaad6cedd6"
      },
      "source": [
        "ary1d.reshape(-1, 2) #retira 1 coluna e adiciona 2 linhas a ary"
      ],
      "execution_count": null,
      "outputs": [
        {
          "output_type": "execute_result",
          "data": {
            "text/plain": [
              "array([[1, 2],\n",
              "       [3, 4],\n",
              "       [5, 6]])"
            ]
          },
          "metadata": {
            "tags": []
          },
          "execution_count": 60
        }
      ]
    },
    {
      "cell_type": "code",
      "metadata": {
        "colab": {
          "base_uri": "https://localhost:8080/"
        },
        "id": "jE85FvJIcOJe",
        "outputId": "c2437953-5bc6-4953-a8e1-e42600709641"
      },
      "source": [
        "ary = np.array([[[1, 2, 3],[4, 5, 6]]])\n",
        "ary.reshape(-1)\n",
        "#retira uma linha de ary"
      ],
      "execution_count": null,
      "outputs": [
        {
          "output_type": "execute_result",
          "data": {
            "text/plain": [
              "array([1, 2, 3, 4, 5, 6])"
            ]
          },
          "metadata": {
            "tags": []
          },
          "execution_count": 61
        }
      ]
    },
    {
      "cell_type": "code",
      "metadata": {
        "colab": {
          "base_uri": "https://localhost:8080/"
        },
        "id": "3hzlL1HccVOw",
        "outputId": "999185f0-7761-4769-e06a-1db4fdc6b354"
      },
      "source": [
        "ary = np.array([1, 2, 3])\n",
        "np.concatenate((ary,ary),axis=0)\n",
        "#concatena ary espelhando linha "
      ],
      "execution_count": null,
      "outputs": [
        {
          "output_type": "execute_result",
          "data": {
            "text/plain": [
              "array([1, 2, 3, 1, 2, 3])"
            ]
          },
          "metadata": {
            "tags": []
          },
          "execution_count": 76
        }
      ]
    },
    {
      "cell_type": "code",
      "metadata": {
        "colab": {
          "base_uri": "https://localhost:8080/"
        },
        "id": "fZIZSy8qcgTq",
        "outputId": "fdaceb44-745a-44e4-d8e3-ee45ae7c52fe"
      },
      "source": [
        "ary = np.array([1, 2, 3])\n",
        "np.concatenate((ary,ary), axis=0)\n",
        "#concatena espelhando a primeira coluna"
      ],
      "execution_count": null,
      "outputs": [
        {
          "output_type": "execute_result",
          "data": {
            "text/plain": [
              "array([1, 2, 3, 1, 2, 3])"
            ]
          },
          "metadata": {
            "tags": []
          },
          "execution_count": 75
        }
      ]
    },
    {
      "cell_type": "code",
      "metadata": {
        "colab": {
          "base_uri": "https://localhost:8080/"
        },
        "id": "BQXFjskUdcdN",
        "outputId": "fc964d90-4d04-417e-9d95-1ecba691bc64"
      },
      "source": [
        "ary = np.array([1, 2, 3, 4])\n",
        "mask = ary > 2\n",
        "mask\n",
        "#mostra quais valores são maiores q 2 em bool"
      ],
      "execution_count": null,
      "outputs": [
        {
          "output_type": "execute_result",
          "data": {
            "text/plain": [
              "array([False, False,  True,  True])"
            ]
          },
          "metadata": {
            "tags": []
          },
          "execution_count": 77
        }
      ]
    },
    {
      "cell_type": "code",
      "metadata": {
        "colab": {
          "base_uri": "https://localhost:8080/"
        },
        "id": "u4TjV58RdkOi",
        "outputId": "4022996b-68aa-483d-92b9-87c2dc66db7b"
      },
      "source": [
        "ary[mask]\n",
        "#mostra os valores maiores q 2"
      ],
      "execution_count": null,
      "outputs": [
        {
          "output_type": "execute_result",
          "data": {
            "text/plain": [
              "array([3, 4])"
            ]
          },
          "metadata": {
            "tags": []
          },
          "execution_count": 78
        }
      ]
    },
    {
      "cell_type": "code",
      "metadata": {
        "colab": {
          "base_uri": "https://localhost:8080/"
        },
        "id": "9i83hTnsg3F5",
        "outputId": "602740d8-598a-40da-f2c0-e69a91cd56f6"
      },
      "source": [
        "mask.sum() #soma os elementos de mask"
      ],
      "execution_count": null,
      "outputs": [
        {
          "output_type": "execute_result",
          "data": {
            "text/plain": [
              "2"
            ]
          },
          "metadata": {
            "tags": []
          },
          "execution_count": 80
        }
      ]
    },
    {
      "cell_type": "code",
      "metadata": {
        "colab": {
          "base_uri": "https://localhost:8080/"
        },
        "id": "Fd17-qXrihbX",
        "outputId": "434be682-4ceb-47d1-9c8b-c5acb4823d06"
      },
      "source": [
        "np.where(ary > 2, 1, 0)\n",
        "#mostra os indices com elementos acima de 2 em bool"
      ],
      "execution_count": null,
      "outputs": [
        {
          "output_type": "execute_result",
          "data": {
            "text/plain": [
              "array([0, 0, 1, 1])"
            ]
          },
          "metadata": {
            "tags": []
          },
          "execution_count": 81
        }
      ]
    },
    {
      "cell_type": "code",
      "metadata": {
        "colab": {
          "base_uri": "https://localhost:8080/"
        },
        "id": "DWpWpZIEisot",
        "outputId": "7753bbab-898c-41e7-a204-91f1ed33496e"
      },
      "source": [
        "ary = np.array([1, 2, 3, 4])\n",
        "mask = ary > 2\n",
        "ary[mask] = 1\n",
        "ary[~mask] = 0\n",
        "ary #mesma coisa q o de cima mas escrito de forma diferente"
      ],
      "execution_count": null,
      "outputs": [
        {
          "output_type": "execute_result",
          "data": {
            "text/plain": [
              "array([0, 0, 1, 1])"
            ]
          },
          "metadata": {
            "tags": []
          },
          "execution_count": 82
        }
      ]
    },
    {
      "cell_type": "code",
      "metadata": {
        "colab": {
          "base_uri": "https://localhost:8080/"
        },
        "id": "mLh_gs8di81u",
        "outputId": "18c61ee0-3b60-4b92-b318-fb710fe06d3b"
      },
      "source": [
        "ary = np.array([1, 2, 3, 4])\n",
        "(ary > 3) | (ary < 2)\n",
        "#mostra em bool elementtos maiores q 3 ou menores q 2"
      ],
      "execution_count": null,
      "outputs": [
        {
          "output_type": "execute_result",
          "data": {
            "text/plain": [
              "array([ True, False, False,  True])"
            ]
          },
          "metadata": {
            "tags": []
          },
          "execution_count": 83
        }
      ]
    },
    {
      "cell_type": "code",
      "metadata": {
        "colab": {
          "base_uri": "https://localhost:8080/"
        },
        "id": "fIpbTLzOjMc8",
        "outputId": "91f4e833-9fa7-4d03-b741-ced11f3e3480"
      },
      "source": [
        "~((ary > 3) | (ary < 2))\n",
        "#mesmo de cima só q negado"
      ],
      "execution_count": null,
      "outputs": [
        {
          "output_type": "execute_result",
          "data": {
            "text/plain": [
              "array([False,  True,  True, False])"
            ]
          },
          "metadata": {
            "tags": []
          },
          "execution_count": 85
        }
      ]
    },
    {
      "cell_type": "code",
      "metadata": {
        "colab": {
          "base_uri": "https://localhost:8080/"
        },
        "id": "hlzRKmTvjV1z",
        "outputId": "ffb6769e-f189-4673-fe01-e2ce9cee90e3"
      },
      "source": [
        "row_vector = np.array([1, 2, 3])\n",
        "row_vector\n",
        "#vetor em linha"
      ],
      "execution_count": null,
      "outputs": [
        {
          "output_type": "execute_result",
          "data": {
            "text/plain": [
              "array([1, 2, 3])"
            ]
          },
          "metadata": {
            "tags": []
          },
          "execution_count": 86
        }
      ]
    },
    {
      "cell_type": "code",
      "metadata": {
        "colab": {
          "base_uri": "https://localhost:8080/"
        },
        "id": "LHJWBDa1jaPG",
        "outputId": "6e2ba590-56a5-4ab2-fd49-faef28621b3c"
      },
      "source": [
        "column_vector = np.array([[1, 2, 3]]).reshape(-1, 1)\n",
        "column_vector\n",
        "#vetor em coluna"
      ],
      "execution_count": null,
      "outputs": [
        {
          "output_type": "execute_result",
          "data": {
            "text/plain": [
              "array([[1],\n",
              "       [2],\n",
              "       [3]])"
            ]
          },
          "metadata": {
            "tags": []
          },
          "execution_count": 87
        }
      ]
    },
    {
      "cell_type": "code",
      "metadata": {
        "colab": {
          "base_uri": "https://localhost:8080/"
        },
        "id": "ugcsLCgDjgzD",
        "outputId": "07a8d203-62a3-43ac-a911-87c254d8d403"
      },
      "source": [
        "row_vector[:, np.newaxis]\n",
        "#mesmo q o de cima"
      ],
      "execution_count": null,
      "outputs": [
        {
          "output_type": "execute_result",
          "data": {
            "text/plain": [
              "array([[1],\n",
              "       [2],\n",
              "       [3]])"
            ]
          },
          "metadata": {
            "tags": []
          },
          "execution_count": 88
        }
      ]
    },
    {
      "cell_type": "code",
      "metadata": {
        "colab": {
          "base_uri": "https://localhost:8080/"
        },
        "id": "kff-DtI-jk0K",
        "outputId": "6cef633d-fb7c-452d-f22c-43332c1aa177"
      },
      "source": [
        "row_vector[:, None]\n",
        "#mesmo q o de cima"
      ],
      "execution_count": null,
      "outputs": [
        {
          "output_type": "execute_result",
          "data": {
            "text/plain": [
              "array([[1],\n",
              "       [2],\n",
              "       [3]])"
            ]
          },
          "metadata": {
            "tags": []
          },
          "execution_count": 89
        }
      ]
    },
    {
      "cell_type": "code",
      "metadata": {
        "colab": {
          "base_uri": "https://localhost:8080/"
        },
        "id": "oRBXnz9ejnRw",
        "outputId": "579e99da-b802-4190-e15d-e742d179a7f0"
      },
      "source": [
        "matrix = np.array([[1, 2, 3],[4, 5, 6]])\n",
        "np.matmul(matrix, column_vector)\n",
        "#multiplicacao de matrizes"
      ],
      "execution_count": null,
      "outputs": [
        {
          "output_type": "execute_result",
          "data": {
            "text/plain": [
              "array([[14],\n",
              "       [32]])"
            ]
          },
          "metadata": {
            "tags": []
          },
          "execution_count": 92
        }
      ]
    },
    {
      "cell_type": "code",
      "metadata": {
        "colab": {
          "base_uri": "https://localhost:8080/"
        },
        "id": "SORNIigTjzrK",
        "outputId": "3d73a099-9acf-4755-fc49-0e39d0b67865"
      },
      "source": [
        "np.matmul(matrix, row_vector) #mulitplicacao de matrix em colunas"
      ],
      "execution_count": null,
      "outputs": [
        {
          "output_type": "execute_result",
          "data": {
            "text/plain": [
              "array([14, 32])"
            ]
          },
          "metadata": {
            "tags": []
          },
          "execution_count": 93
        }
      ]
    },
    {
      "cell_type": "code",
      "metadata": {
        "colab": {
          "base_uri": "https://localhost:8080/"
        },
        "id": "8af8RC03kCYs",
        "outputId": "46fa8035-432a-4526-8091-9fdb76411370"
      },
      "source": [
        "np.dot(row_vector, row_vector) #multiplicacao linha por linha"
      ],
      "execution_count": null,
      "outputs": [
        {
          "output_type": "execute_result",
          "data": {
            "text/plain": [
              "14"
            ]
          },
          "metadata": {
            "tags": []
          },
          "execution_count": 94
        }
      ]
    },
    {
      "cell_type": "code",
      "metadata": {
        "colab": {
          "base_uri": "https://localhost:8080/"
        },
        "id": "OACcyFkZkGkL",
        "outputId": "3869f8b0-102d-4130-a0cc-b70c3c24bb98"
      },
      "source": [
        "np.dot(matrix, row_vector) # mutiplicacao matriz por linha"
      ],
      "execution_count": null,
      "outputs": [
        {
          "output_type": "execute_result",
          "data": {
            "text/plain": [
              "array([14, 32])"
            ]
          },
          "metadata": {
            "tags": []
          },
          "execution_count": 95
        }
      ]
    },
    {
      "cell_type": "code",
      "metadata": {
        "colab": {
          "base_uri": "https://localhost:8080/"
        },
        "id": "JLeePo5UkRxH",
        "outputId": "35e6a1df-5f32-4f2c-e79d-c332004877e2"
      },
      "source": [
        "np.dot(matrix, column_vector) #multiplicacao matriz por coluna"
      ],
      "execution_count": null,
      "outputs": [
        {
          "output_type": "execute_result",
          "data": {
            "text/plain": [
              "array([[14],\n",
              "       [32]])"
            ]
          },
          "metadata": {
            "tags": []
          },
          "execution_count": 96
        }
      ]
    },
    {
      "cell_type": "code",
      "metadata": {
        "colab": {
          "base_uri": "https://localhost:8080/"
        },
        "id": "nq_-3aImkafA",
        "outputId": "1494676e-36bf-4562-be68-a1fe2d442a73"
      },
      "source": [
        "matrix = np.array([[1, 2, 3],[4, 5, 6]])\n",
        "matrix.transpose() #matriz transposta"
      ],
      "execution_count": null,
      "outputs": [
        {
          "output_type": "execute_result",
          "data": {
            "text/plain": [
              "array([[1, 4],\n",
              "       [2, 5],\n",
              "       [3, 6]])"
            ]
          },
          "metadata": {
            "tags": []
          },
          "execution_count": 97
        }
      ]
    },
    {
      "cell_type": "code",
      "metadata": {
        "colab": {
          "base_uri": "https://localhost:8080/"
        },
        "id": "iOjzxUGRkhaZ",
        "outputId": "4bf55066-188f-4f4c-907c-05a7d2291ea1"
      },
      "source": [
        "np.matmul(matrix, matrix.transpose())\n",
        "#multiplicacao de matrix por transposta"
      ],
      "execution_count": null,
      "outputs": [
        {
          "output_type": "execute_result",
          "data": {
            "text/plain": [
              "array([[14, 32],\n",
              "       [32, 77]])"
            ]
          },
          "metadata": {
            "tags": []
          },
          "execution_count": 98
        }
      ]
    },
    {
      "cell_type": "code",
      "metadata": {
        "colab": {
          "base_uri": "https://localhost:8080/",
          "height": 265
        },
        "id": "jiczw0-fk2Lm",
        "outputId": "38e3291b-9341-4cfc-b4ef-ed1a9a182f6c"
      },
      "source": [
        "%matplotlib inline\n",
        "import matplotlib.pyplot as plt\n",
        "\n",
        "x = np.linspace(0, 10, 100)\n",
        "plt.plot(x, np.sin(x))\n",
        "plt.show() #plota o grafico da função acima"
      ],
      "execution_count": null,
      "outputs": [
        {
          "output_type": "display_data",
          "data": {
            "image/png": "[encoded data removed]",
            "text/plain": [
              "<Figure size 432x288 with 1 Axes>"
            ]
          },
          "metadata": {
            "tags": [],
            "needs_background": "light"
          }
        }
      ]
    },
    {
      "cell_type": "code",
      "metadata": {
        "colab": {
          "base_uri": "https://localhost:8080/",
          "height": 279
        },
        "id": "fwoDfgGelGRH",
        "outputId": "e4119031-6340-4365-d63f-d074c88dbc7e"
      },
      "source": [
        "plt.plot(x, np.sin(x))\n",
        "\n",
        "plt.xlim([2, 8])\n",
        "plt.ylim([0, 0.75])\n",
        "\n",
        "plt.xlabel('x-axis')\n",
        "plt.ylabel('y-axis')\n",
        "\n",
        "plt.show()\n",
        "\n",
        "#plota o grafico com x e y delimitados"
      ],
      "execution_count": null,
      "outputs": [
        {
          "output_type": "display_data",
          "data": {
            "image/png": "[encoded data removed]",
            "text/plain": [
              "<Figure size 432x288 with 1 Axes>"
            ]
          },
          "metadata": {
            "tags": [],
            "needs_background": "light"
          }
        }
      ]
    },
    {
      "cell_type": "code",
      "metadata": {
        "colab": {
          "base_uri": "https://localhost:8080/",
          "height": 279
        },
        "id": "Cgm6wCLHlYyw",
        "outputId": "e2c76125-6bc4-4026-9209-80725731b0f8"
      },
      "source": [
        "x = np.linspace(0, 10, 100)\n",
        "plt.plot(x, np.sin(x), label=('sin(x)'))\n",
        "plt.plot(x, np.cos(x), label=('cos(x)'))\n",
        "plt.ylabel('f(x)')\n",
        "plt.xlabel('x')\n",
        "plt.legend(loc='lower left')\n",
        "plt.show()\n",
        "#plota o grafico com adicao de legendas"
      ],
      "execution_count": null,
      "outputs": [
        {
          "output_type": "display_data",
          "data": {
            "image/png": "[encoded data removed]",
            "text/plain": [
              "<Figure size 432x288 with 1 Axes>"
            ]
          },
          "metadata": {
            "tags": [],
            "needs_background": "light"
          }
        }
      ]
    },
    {
      "cell_type": "code",
      "metadata": {
        "colab": {
          "base_uri": "https://localhost:8080/",
          "height": 265
        },
        "id": "9LD9IAVMlqxc",
        "outputId": "d8566015-fe44-45c3-a9c1-f9b5c4c706e7"
      },
      "source": [
        "rng = np.random.RandomState(123)\n",
        "x = rng.normal(size=500)\n",
        "y = rng.normal(size=500)\n",
        "plt.scatter(x, y)\n",
        "plt.show()\n",
        "\n",
        "#plota um mapa de scatter com numeros aleatorios"
      ],
      "execution_count": null,
      "outputs": [
        {
          "output_type": "display_data",
          "data": {
            "image/png": "[encoded data removed]",
            "text/plain": [
              "<Figure size 432x288 with 1 Axes>"
            ]
          },
          "metadata": {
            "tags": [],
            "needs_background": "light"
          }
        }
      ]
    },
    {
      "cell_type": "code",
      "metadata": {
        "colab": {
          "base_uri": "https://localhost:8080/",
          "height": 265
        },
        "id": "pTKsXsaEl29Q",
        "outputId": "ed7c841c-e9c2-42ee-9bb5-d967a6197d31"
      },
      "source": [
        "# input data\n",
        "means = [1, 2, 3]\n",
        "stddevs = [0.2, 0.4, 0.5]\n",
        "bar_labels = ['bar 1','bar 2','bar 3']\n",
        "\n",
        "# plot bars\n",
        "x_pos = list(range(len(bar_labels)))\n",
        "plt.bar(x_pos, means, yerr=stddevs)\n",
        "plt.show()\n",
        "\n",
        "#plota grafico de barras com os valores dados no input"
      ],
      "execution_count": null,
      "outputs": [
        {
          "output_type": "display_data",
          "data": {
            "image/png": "[encoded data removed]",
            "text/plain": [
              "<Figure size 432x288 with 1 Axes>"
            ]
          },
          "metadata": {
            "tags": [],
            "needs_background": "light"
          }
        }
      ]
    },
    {
      "cell_type": "code",
      "metadata": {
        "colab": {
          "base_uri": "https://localhost:8080/",
          "height": 265
        },
        "id": "t9SG4V0smAue",
        "outputId": "fc921be5-4522-4be4-d7ee-f1e1f8f74490"
      },
      "source": [
        "rng = np.random.RandomState(123)\n",
        "x = rng.normal(0, 20, 1000)\n",
        "# fixed bin size\n",
        "bins = np.arange(-100, 100, 5)\n",
        "plt.hist(x, bins=bins)\n",
        "plt.show()\n",
        "#plota um histograma com os dados citados com o range setado"
      ],
      "execution_count": null,
      "outputs": [
        {
          "output_type": "display_data",
          "data": {
            "image/png": "[encoded data removed]",
            "text/plain": [
              "<Figure size 432x288 with 1 Axes>"
            ]
          },
          "metadata": {
            "tags": [],
            "needs_background": "light"
          }
        }
      ]
    },
    {
      "cell_type": "code",
      "metadata": {
        "colab": {
          "base_uri": "https://localhost:8080/",
          "height": 265
        },
        "id": "W423-Qz3mLMU",
        "outputId": "d5478d4c-80ed-449e-d2a9-93c37a16c780"
      },
      "source": [
        "rng = np.random.RandomState(123)\n",
        "x1 = rng.normal(0, 20, 1000)\n",
        "x2 = rng.normal(15, 10, 1000)\n",
        "bins = np.arange(-100, 100, 5)\n",
        "plt.hist(x1, bins=bins, alpha=0.5)\n",
        "plt.hist(x2, bins=bins, alpha=0.5)\n",
        "plt.show()\n",
        "#o mesmo de cima porem com diferença de cores nas incidencias de informação"
      ],
      "execution_count": null,
      "outputs": [
        {
          "output_type": "display_data",
          "data": {
            "image/png": "[encoded data removed]",
            "text/plain": [
              "<Figure size 432x288 with 1 Axes>"
            ]
          },
          "metadata": {
            "tags": [],
            "needs_background": "light"
          }
        }
      ]
    },
    {
      "cell_type": "code",
      "metadata": {
        "colab": {
          "base_uri": "https://localhost:8080/",
          "height": 265
        },
        "id": "rYo-3wuTmXOa",
        "outputId": "2fb999d8-38c7-4fa3-d33a-6af9f7425c69"
      },
      "source": [
        "import matplotlib.pyplot as plt\n",
        "x = range(11)\n",
        "y = range(11)\n",
        "fig, ax = plt.subplots(nrows=2, ncols=3,\n",
        "sharex=True, sharey=True)\n",
        "\n",
        "for row in ax:\n",
        "  for col in row:\n",
        "    col.plot(x, y)\n",
        "plt.show()\n",
        "\n",
        "#faz subplotagens separadas em diferentes espacos amostrais"
      ],
      "execution_count": null,
      "outputs": [
        {
          "output_type": "display_data",
          "data": {
            "image/png": "[encoded data removed]",
            "text/plain": [
              "<Figure size 432x288 with 6 Axes>"
            ]
          },
          "metadata": {
            "tags": [],
            "needs_background": "light"
          }
        }
      ]
    },
    {
      "cell_type": "code",
      "metadata": {
        "colab": {
          "base_uri": "https://localhost:8080/",
          "height": 265
        },
        "id": "67pUB4atml_6",
        "outputId": "aacc46f5-e7b3-432d-a6f2-78dafe3a5b5a"
      },
      "source": [
        "x = np.linspace(0, 10, 100)\n",
        "plt.plot(x, np.sin(x),\n",
        "color='orange',\n",
        "marker='^',\n",
        "linestyle='')\n",
        "plt.show()\n",
        "#mostra como utilizar cor na linha do grafico"
      ],
      "execution_count": null,
      "outputs": [
        {
          "output_type": "display_data",
          "data": {
            "image/png": "[encoded data removed]",
            "text/plain": [
              "<Figure size 432x288 with 1 Axes>"
            ]
          },
          "metadata": {
            "tags": [],
            "needs_background": "light"
          }
        }
      ]
    },
    {
      "cell_type": "code",
      "metadata": {
        "colab": {
          "base_uri": "https://localhost:8080/",
          "height": 265
        },
        "id": "kFkKmQHUmwLn",
        "outputId": "664c0d06-1973-45bb-bb63-46940c4cd16b"
      },
      "source": [
        "x = np.linspace(0, 10, 100)\n",
        "plt.plot(x, np.sin(x))\n",
        "plt.savefig('myplot.png', dpi=300)\n",
        "plt.savefig('myplot.pdf')\n",
        "plt.show()\n",
        "#mostra como criar um grafico com opção de salvar a imagem em pdf ou png"
      ],
      "execution_count": null,
      "outputs": [
        {
          "output_type": "display_data",
          "data": {
            "image/png": "[encoded data removed]",
            "text/plain": [
              "<Figure size 432x288 with 1 Axes>"
            ]
          },
          "metadata": {
            "tags": [],
            "needs_background": "light"
          }
        }
      ]
    }
  ]
}